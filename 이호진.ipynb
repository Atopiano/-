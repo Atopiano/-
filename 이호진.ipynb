{
 "cells": [
  {
   "cell_type": "markdown",
   "id": "422af844-2ff3-468c-8644-a83ae0b5bbdd",
   "metadata": {},
   "source": [
    "# #1 세계 주요 지수의 등락률 비교(최적화)"
   ]
  },
  {
   "cell_type": "code",
   "execution_count": 4,
   "id": "4bf7bc22-c69a-45b5-8c0b-029f51996f99",
   "metadata": {},
   "outputs": [],
   "source": [
    "# Data Analysis and Visualization\n",
    "import pandas                as pd\n",
    "import numpy                 as np\n",
    "from   sklearn.preprocessing import MinMaxScaler\n",
    "import talib # TA-Lib은 금융 시장 데이터의 기술적 분석을 수행하는데 필요한 멀티플랫폼 라이브러리 입니다.\n",
    "# Visualization\n",
    "import matplotlib           as mpl\n",
    "from   matplotlib           import font_manager, rc\n",
    "import matplotlib.pyplot    as plt\n",
    "import seaborn              as sns\n",
    "import mplfinance           as mpf # 주가데이터 가져오기\n",
    "import plotly.graph_objects as go\n",
    "import plotly.subplots      as ms\n",
    "# Time Handling\n",
    "import time\n",
    "from   pytz     import timezone\n",
    "from   datetime import date, datetime, timedelta\n",
    "# HTTP Requests\n",
    "from urllib.request import urlopen\n",
    "# Data Sources\n",
    "from   pykrx             import stock, bond\n",
    "from pandas_datareader import data as pdr\n",
    "import yfinance as yfin\n",
    "# Configurations\n",
    "import warnings\n",
    "yfin.pdr_override()"
   ]
  },
  {
   "cell_type": "code",
   "execution_count": 5,
   "id": "2569046b-d926-4e4b-a866-df47d8cc087a",
   "metadata": {},
   "outputs": [
    {
     "name": "stdout",
     "output_type": "stream",
     "text": [
      "SeoulNamsan\n",
      "Nanum Pen\n",
      "NanumGothic\n",
      "NanumGothic\n",
      "NanumGothic\n"
     ]
    }
   ],
   "source": [
    "# Add every font at the specified location\n",
    "font_dir = ['C:/python/fonts']\n",
    "for font in font_manager.findSystemFonts(fontpaths=font_dir):\n",
    "    print(mpl.font_manager.FontProperties(fname=font).get_name())\n",
    "    font_manager.fontManager.addfont(font)\n",
    "# Set font family globally\n",
    "mpl.rcParams['font.family'] = 'SeoulNamsan'"
   ]
  },
  {
   "cell_type": "code",
   "execution_count": 6,
   "id": "ad2a0ed2-2810-46c4-8230-e28c1201b7fb",
   "metadata": {},
   "outputs": [],
   "source": [
    "warnings.filterwarnings('ignore')             # 경고 무시\n",
    "# Date Strings\n",
    "YESTERDAY             = datetime.strftime(datetime.now(timezone('Asia/Seoul')) - timedelta(1)  , \"%Y-%m-%d\") # Yesterday (Format:\"YYYYMMDD\")\n",
    "PREVIOUS_BUSINESS_DAY = datetime.strftime(datetime.now(timezone('Asia/Seoul')) - timedelta(3)  , \"%Y-%m-%d\") if datetime.now(timezone('Asia/Seoul')).weekday() == 0 else YESTERDAY # Previous Business Day (Format:\"YYYYMMDD\")\n",
    "TODAY                 = datetime.strftime(datetime.now(timezone('Asia/Seoul'))                 , \"%Y-%m-%d\") # Yesterday (Format:\"YYYYMMDD\")\n",
    "TOMORROW              = datetime.strftime(datetime.now(timezone('Asia/Seoul')) + timedelta(1)  , \"%Y-%m-%d\") # Yesterday (Format:\"YYYYMMDD\")\n",
    "LAST_YEAR             = datetime.strftime(datetime.now(timezone('Asia/Seoul')) - timedelta(365), \"%Y\")     # Last year (Format:\"YYYY\")\n",
    "CURRENT_YEAR          = datetime.strftime(datetime.now(timezone('Asia/Seoul'))                 , \"%Y\")     # Current year (Format:\"YYYY\")/"
   ]
  },
  {
   "cell_type": "code",
   "execution_count": 7,
   "id": "b272b4fb-c2c6-4b23-9ddf-111a516d8317",
   "metadata": {},
   "outputs": [],
   "source": [
    "# Tickers of World Indexes\n",
    "WORLD_INDEX_TICKERS = [ {'ticker':'^GSPC',     'nation':'US',          'name':'S&P 500'},\n",
    "                        {'ticker':'^IXIC',     'nation':'US',          'name':'NASDAQ Composite'},\n",
    "                        {'ticker':'^N225',     'nation':'Japan',       'name':'Nikkei 225'},\n",
    "                        {'ticker':'399001.SZ', 'nation':'China',       'name':'Shenzhen Index'},\n",
    "                        {'ticker':'^KS11',     'nation':'Korea',       'name':'KOSPI Composite Index'},\n",
    "]"
   ]
  },
  {
   "cell_type": "code",
   "execution_count": 8,
   "id": "5dfa55d9-b157-4009-bbc0-e3792e4a306f",
   "metadata": {},
   "outputs": [],
   "source": [
    "def get_world_index(ticker, startDt=\"2000-01-01\", endDt=YESTERDAY):\n",
    "    \"\"\"\n",
    "    세계 주요 주가 지수의 일별 OHCLV(Open, High, Close, Low, Volume) 데이터를 담은 DataFrame을 반환한다.\n",
    "    [Parameters]\n",
    "    ticker  (str) : 조회할 지수의 Ticker\n",
    "    startDt (str) : 조회할 데이터의 시작 일자 (YYYYMMDD) (Default: \"20000101\")\n",
    "    endDt   (str) : 조회할 데이터의 종료 일자 (YYYYMMDD) (Default: 전일)\n",
    "    [Returns]\n",
    "    pandas.core.frame.DataFrame : 세계 주요 주가 지수의 일별 OHCLV 데이터를 담은 DataFrame\n",
    "    \"\"\"\n",
    "    startDt_datetime = datetime.strptime(startDt, '%Y-%m-%d')\n",
    "    endDt_datetime   = datetime.strptime(endDt,   '%Y-%m-%d')\n",
    "    return pdr.get_data_yahoo(ticker, startDt_datetime, endDt_datetime)\n",
    "\n",
    "def get_normalization(df_ts):\n",
    "    \"\"\"\n",
    "    시계열 데이터를 MinMaxScaler로 정규화한 결과를 반환한다.\n",
    "    [Parameters]\n",
    "    df_ts (pandas.core.frame.DataFrame) : 정규화할 시계열 데이터가 담긴 DataFrame\n",
    "    [Returns]\n",
    "    pandas.core.frame.DataFrame : 정규화된 시계열 데이터가 담긴 DataFrame\n",
    "    \"\"\"\n",
    "    return MinMaxScaler().fit_transform(df_ts)"
   ]
  },
  {
   "cell_type": "code",
   "execution_count": null,
   "id": "6f0641e8-0706-4510-8523-ed02ff270f3d",
   "metadata": {},
   "outputs": [
    {
     "ename": "NameError",
     "evalue": "name 'plt' is not defined",
     "output_type": "error",
     "traceback": [
      "\u001b[1;31m---------------------------------------------------------------------------\u001b[0m",
      "\u001b[1;31mNameError\u001b[0m                                 Traceback (most recent call last)",
      "Cell \u001b[1;32mIn[2], line 1\u001b[0m\n\u001b[1;32m----> 1\u001b[0m fig \u001b[39m=\u001b[39m plt\u001b[39m.\u001b[39mfigure( figsize\u001b[39m=\u001b[39m(\u001b[39m20\u001b[39m, \u001b[39m10\u001b[39m)) \u001b[39m# 그래프 크기 조절\u001b[39;00m\n\u001b[0;32m      2\u001b[0m \u001b[39mfor\u001b[39;00m index \u001b[39min\u001b[39;00m WORLD_INDEX_TICKERS:\n\u001b[0;32m      3\u001b[0m     index_df    \u001b[39m=\u001b[39m get_world_index(index[\u001b[39m'\u001b[39m\u001b[39mticker\u001b[39m\u001b[39m'\u001b[39m])[[\u001b[39m'\u001b[39m\u001b[39mClose\u001b[39m\u001b[39m'\u001b[39m]][::\u001b[39m30\u001b[39m]\n",
      "\u001b[1;31mNameError\u001b[0m: name 'plt' is not defined"
     ]
    }
   ],
   "source": [
    "fig = plt.figure( figsize=(20, 10)) # 그래프 크기 조절\n",
    "for index in WORLD_INDEX_TICKERS:\n",
    "    index_df    = get_world_index(index['ticker'])[['Close']][::30]\n",
    "    index_df[:]    = get_normalization(index_df)\n",
    "    if index['ticker'] == '^KS11':\n",
    "        ax1 = sns.lineplot(\n",
    "            data      = index_df,\n",
    "            x         = 'Date',\n",
    "            y         = 'Close',\n",
    "            label     = index['name'] + f\"({index['nation']})\",\n",
    "            color     = 'blue',\n",
    "            linewidth = 5,\n",
    "            linestyle = ':'\n",
    "        )\n",
    "    else:\n",
    "        ax1 = sns.lineplot(\n",
    "            data    = index_df,\n",
    "            x       = 'Date',\n",
    "            y       = 'Close',\n",
    "            label   = index['name'] + f\"({index['nation']})\",\n",
    "        )\n",
    "plt.title('세계 주요 지수의 등락률 비교 (2000-2022, 월별)', fontsize=20)\n",
    "plt.ylabel('등락률 (종가)', fontsize=15)\n",
    "plt.xlabel('날짜', fontsize=15)\n",
    "plt.legend(loc = 'upper left')\n",
    "sns.set_theme(style='whitegrid')\n",
    "plt.show()\n"
   ]
  },
  {
   "cell_type": "code",
   "execution_count": 12,
   "id": "3430d391",
   "metadata": {},
   "outputs": [
    {
     "name": "stdout",
     "output_type": "stream",
     "text": [
      "[*********************100%***********************]  1 of 1 completed\n"
     ]
    },
    {
     "data": {
      "text/html": [
       "<div>\n",
       "<style scoped>\n",
       "    .dataframe tbody tr th:only-of-type {\n",
       "        vertical-align: middle;\n",
       "    }\n",
       "\n",
       "    .dataframe tbody tr th {\n",
       "        vertical-align: top;\n",
       "    }\n",
       "\n",
       "    .dataframe thead th {\n",
       "        text-align: right;\n",
       "    }\n",
       "</style>\n",
       "<table border=\"1\" class=\"dataframe\">\n",
       "  <thead>\n",
       "    <tr style=\"text-align: right;\">\n",
       "      <th></th>\n",
       "      <th>Close</th>\n",
       "    </tr>\n",
       "    <tr>\n",
       "      <th>Date</th>\n",
       "      <th></th>\n",
       "    </tr>\n",
       "  </thead>\n",
       "  <tbody>\n",
       "    <tr>\n",
       "      <th>2000-01-03 00:00:00-05:00</th>\n",
       "      <td>0.206635</td>\n",
       "    </tr>\n",
       "    <tr>\n",
       "      <th>2000-02-15 00:00:00-05:00</th>\n",
       "      <td>0.226815</td>\n",
       "    </tr>\n",
       "    <tr>\n",
       "      <th>2000-03-29 00:00:00-05:00</th>\n",
       "      <td>0.242416</td>\n",
       "    </tr>\n",
       "    <tr>\n",
       "      <th>2000-05-11 00:00:00-04:00</th>\n",
       "      <td>0.162629</td>\n",
       "    </tr>\n",
       "    <tr>\n",
       "      <th>2000-06-23 00:00:00-04:00</th>\n",
       "      <td>0.186721</td>\n",
       "    </tr>\n",
       "    <tr>\n",
       "      <th>...</th>\n",
       "      <td>...</td>\n",
       "    </tr>\n",
       "    <tr>\n",
       "      <th>2022-07-18 00:00:00-04:00</th>\n",
       "      <td>0.710328</td>\n",
       "    </tr>\n",
       "    <tr>\n",
       "      <th>2022-08-29 00:00:00-04:00</th>\n",
       "      <td>0.756149</td>\n",
       "    </tr>\n",
       "    <tr>\n",
       "      <th>2022-10-11 00:00:00-04:00</th>\n",
       "      <td>0.645259</td>\n",
       "    </tr>\n",
       "    <tr>\n",
       "      <th>2022-11-22 00:00:00-05:00</th>\n",
       "      <td>0.697393</td>\n",
       "    </tr>\n",
       "    <tr>\n",
       "      <th>2023-01-06 00:00:00-05:00</th>\n",
       "      <td>0.655230</td>\n",
       "    </tr>\n",
       "  </tbody>\n",
       "</table>\n",
       "<p>194 rows × 1 columns</p>\n",
       "</div>"
      ],
      "text/plain": [
       "                              Close\n",
       "Date                               \n",
       "2000-01-03 00:00:00-05:00  0.206635\n",
       "2000-02-15 00:00:00-05:00  0.226815\n",
       "2000-03-29 00:00:00-05:00  0.242416\n",
       "2000-05-11 00:00:00-04:00  0.162629\n",
       "2000-06-23 00:00:00-04:00  0.186721\n",
       "...                             ...\n",
       "2022-07-18 00:00:00-04:00  0.710328\n",
       "2022-08-29 00:00:00-04:00  0.756149\n",
       "2022-10-11 00:00:00-04:00  0.645259\n",
       "2022-11-22 00:00:00-05:00  0.697393\n",
       "2023-01-06 00:00:00-05:00  0.655230\n",
       "\n",
       "[194 rows x 1 columns]"
      ]
     },
     "execution_count": 12,
     "metadata": {},
     "output_type": "execute_result"
    }
   ],
   "source": [
    "index_df    = get_world_index('^IXIC')[['Close']][::30]\n",
    "index_df[:]    = get_normalization(index_df)\n",
    "index_df\n"
   ]
  },
  {
   "cell_type": "code",
   "execution_count": 24,
   "id": "d13505a9",
   "metadata": {},
   "outputs": [
    {
     "name": "stdout",
     "output_type": "stream",
     "text": [
      "[*********************100%***********************]  1 of 1 completed\n"
     ]
    },
    {
     "data": {
      "text/html": [
       "<div>\n",
       "<style scoped>\n",
       "    .dataframe tbody tr th:only-of-type {\n",
       "        vertical-align: middle;\n",
       "    }\n",
       "\n",
       "    .dataframe tbody tr th {\n",
       "        vertical-align: top;\n",
       "    }\n",
       "\n",
       "    .dataframe thead th {\n",
       "        text-align: right;\n",
       "    }\n",
       "</style>\n",
       "<table border=\"1\" class=\"dataframe\">\n",
       "  <thead>\n",
       "    <tr style=\"text-align: right;\">\n",
       "      <th></th>\n",
       "      <th>Close</th>\n",
       "    </tr>\n",
       "    <tr>\n",
       "      <th>Date</th>\n",
       "      <th></th>\n",
       "    </tr>\n",
       "  </thead>\n",
       "  <tbody>\n",
       "    <tr>\n",
       "      <th>2000-01-04 00:00:00+09:00</th>\n",
       "      <td>19002.859375</td>\n",
       "    </tr>\n",
       "    <tr>\n",
       "      <th>2000-02-17 00:00:00+09:00</th>\n",
       "      <td>19791.400391</td>\n",
       "    </tr>\n",
       "    <tr>\n",
       "      <th>2000-03-31 00:00:00+09:00</th>\n",
       "      <td>20337.320312</td>\n",
       "    </tr>\n",
       "    <tr>\n",
       "      <th>2000-05-17 00:00:00+09:00</th>\n",
       "      <td>17404.029297</td>\n",
       "    </tr>\n",
       "    <tr>\n",
       "      <th>2000-06-28 00:00:00+09:00</th>\n",
       "      <td>17370.169922</td>\n",
       "    </tr>\n",
       "    <tr>\n",
       "      <th>...</th>\n",
       "      <td>...</td>\n",
       "    </tr>\n",
       "    <tr>\n",
       "      <th>2022-07-14 00:00:00+09:00</th>\n",
       "      <td>26643.390625</td>\n",
       "    </tr>\n",
       "    <tr>\n",
       "      <th>2022-08-29 00:00:00+09:00</th>\n",
       "      <td>27878.960938</td>\n",
       "    </tr>\n",
       "    <tr>\n",
       "      <th>2022-10-13 00:00:00+09:00</th>\n",
       "      <td>26237.419922</td>\n",
       "    </tr>\n",
       "    <tr>\n",
       "      <th>2022-11-28 00:00:00+09:00</th>\n",
       "      <td>28162.830078</td>\n",
       "    </tr>\n",
       "    <tr>\n",
       "      <th>2023-01-12 00:00:00+09:00</th>\n",
       "      <td>26449.820312</td>\n",
       "    </tr>\n",
       "  </tbody>\n",
       "</table>\n",
       "<p>189 rows × 1 columns</p>\n",
       "</div>"
      ],
      "text/plain": [
       "                                  Close\n",
       "Date                                   \n",
       "2000-01-04 00:00:00+09:00  19002.859375\n",
       "2000-02-17 00:00:00+09:00  19791.400391\n",
       "2000-03-31 00:00:00+09:00  20337.320312\n",
       "2000-05-17 00:00:00+09:00  17404.029297\n",
       "2000-06-28 00:00:00+09:00  17370.169922\n",
       "...                                 ...\n",
       "2022-07-14 00:00:00+09:00  26643.390625\n",
       "2022-08-29 00:00:00+09:00  27878.960938\n",
       "2022-10-13 00:00:00+09:00  26237.419922\n",
       "2022-11-28 00:00:00+09:00  28162.830078\n",
       "2023-01-12 00:00:00+09:00  26449.820312\n",
       "\n",
       "[189 rows x 1 columns]"
      ]
     },
     "execution_count": 24,
     "metadata": {},
     "output_type": "execute_result"
    }
   ],
   "source": [
    "index_df    = get_world_index('^N225')[['Close']][::30]\n",
    "index_df"
   ]
  },
  {
   "cell_type": "code",
   "execution_count": 15,
   "id": "c3e09c83",
   "metadata": {},
   "outputs": [
    {
     "name": "stdout",
     "output_type": "stream",
     "text": [
      "[*********************100%***********************]  1 of 1 completed\n"
     ]
    },
    {
     "data": {
      "text/html": [
       "<div>\n",
       "<style scoped>\n",
       "    .dataframe tbody tr th:only-of-type {\n",
       "        vertical-align: middle;\n",
       "    }\n",
       "\n",
       "    .dataframe tbody tr th {\n",
       "        vertical-align: top;\n",
       "    }\n",
       "\n",
       "    .dataframe thead th {\n",
       "        text-align: right;\n",
       "    }\n",
       "</style>\n",
       "<table border=\"1\" class=\"dataframe\">\n",
       "  <thead>\n",
       "    <tr style=\"text-align: right;\">\n",
       "      <th></th>\n",
       "      <th>Close</th>\n",
       "    </tr>\n",
       "    <tr>\n",
       "      <th>Date</th>\n",
       "      <th></th>\n",
       "    </tr>\n",
       "  </thead>\n",
       "  <tbody>\n",
       "    <tr>\n",
       "      <th>2000-01-04 00:00:00+08:00</th>\n",
       "      <td>0.054135</td>\n",
       "    </tr>\n",
       "    <tr>\n",
       "      <th>2000-02-29 00:00:00+08:00</th>\n",
       "      <td>0.116708</td>\n",
       "    </tr>\n",
       "    <tr>\n",
       "      <th>2000-04-11 00:00:00+08:00</th>\n",
       "      <td>0.123738</td>\n",
       "    </tr>\n",
       "    <tr>\n",
       "      <th>2000-05-30 00:00:00+08:00</th>\n",
       "      <td>0.126587</td>\n",
       "    </tr>\n",
       "    <tr>\n",
       "      <th>2000-07-11 00:00:00+08:00</th>\n",
       "      <td>0.136987</td>\n",
       "    </tr>\n",
       "    <tr>\n",
       "      <th>...</th>\n",
       "      <td>...</td>\n",
       "    </tr>\n",
       "    <tr>\n",
       "      <th>2022-07-22 00:00:00+08:00</th>\n",
       "      <td>0.618112</td>\n",
       "    </tr>\n",
       "    <tr>\n",
       "      <th>2022-09-02 00:00:00+08:00</th>\n",
       "      <td>0.574269</td>\n",
       "    </tr>\n",
       "    <tr>\n",
       "      <th>2022-10-24 00:00:00+08:00</th>\n",
       "      <td>0.510386</td>\n",
       "    </tr>\n",
       "    <tr>\n",
       "      <th>2022-12-05 00:00:00+08:00</th>\n",
       "      <td>0.550242</td>\n",
       "    </tr>\n",
       "    <tr>\n",
       "      <th>2023-01-17 00:00:00+08:00</th>\n",
       "      <td>0.580492</td>\n",
       "    </tr>\n",
       "  </tbody>\n",
       "</table>\n",
       "<p>187 rows × 1 columns</p>\n",
       "</div>"
      ],
      "text/plain": [
       "                              Close\n",
       "Date                               \n",
       "2000-01-04 00:00:00+08:00  0.054135\n",
       "2000-02-29 00:00:00+08:00  0.116708\n",
       "2000-04-11 00:00:00+08:00  0.123738\n",
       "2000-05-30 00:00:00+08:00  0.126587\n",
       "2000-07-11 00:00:00+08:00  0.136987\n",
       "...                             ...\n",
       "2022-07-22 00:00:00+08:00  0.618112\n",
       "2022-09-02 00:00:00+08:00  0.574269\n",
       "2022-10-24 00:00:00+08:00  0.510386\n",
       "2022-12-05 00:00:00+08:00  0.550242\n",
       "2023-01-17 00:00:00+08:00  0.580492\n",
       "\n",
       "[187 rows x 1 columns]"
      ]
     },
     "execution_count": 15,
     "metadata": {},
     "output_type": "execute_result"
    }
   ],
   "source": [
    "index_df    = get_world_index('399001.SZ')[['Close']][::30]\n",
    "index_df[:]    = get_normalization(index_df)\n",
    "index_df"
   ]
  },
  {
   "cell_type": "code",
   "execution_count": 16,
   "id": "ef4be721",
   "metadata": {},
   "outputs": [
    {
     "name": "stdout",
     "output_type": "stream",
     "text": [
      "[*********************100%***********************]  1 of 1 completed\n"
     ]
    },
    {
     "data": {
      "text/html": [
       "<div>\n",
       "<style scoped>\n",
       "    .dataframe tbody tr th:only-of-type {\n",
       "        vertical-align: middle;\n",
       "    }\n",
       "\n",
       "    .dataframe tbody tr th {\n",
       "        vertical-align: top;\n",
       "    }\n",
       "\n",
       "    .dataframe thead th {\n",
       "        text-align: right;\n",
       "    }\n",
       "</style>\n",
       "<table border=\"1\" class=\"dataframe\">\n",
       "  <thead>\n",
       "    <tr style=\"text-align: right;\">\n",
       "      <th></th>\n",
       "      <th>Close</th>\n",
       "    </tr>\n",
       "    <tr>\n",
       "      <th>Date</th>\n",
       "      <th></th>\n",
       "    </tr>\n",
       "  </thead>\n",
       "  <tbody>\n",
       "    <tr>\n",
       "      <th>2000-01-04 00:00:00+09:00</th>\n",
       "      <td>0.211498</td>\n",
       "    </tr>\n",
       "    <tr>\n",
       "      <th>2000-02-16 00:00:00+09:00</th>\n",
       "      <td>0.146780</td>\n",
       "    </tr>\n",
       "    <tr>\n",
       "      <th>2000-03-30 00:00:00+09:00</th>\n",
       "      <td>0.150546</td>\n",
       "    </tr>\n",
       "    <tr>\n",
       "      <th>2000-05-18 00:00:00+09:00</th>\n",
       "      <td>0.086743</td>\n",
       "    </tr>\n",
       "    <tr>\n",
       "      <th>2000-06-30 00:00:00+09:00</th>\n",
       "      <td>0.125771</td>\n",
       "    </tr>\n",
       "    <tr>\n",
       "      <th>...</th>\n",
       "      <td>...</td>\n",
       "    </tr>\n",
       "    <tr>\n",
       "      <th>2022-07-06 00:00:00+09:00</th>\n",
       "      <td>0.655946</td>\n",
       "    </tr>\n",
       "    <tr>\n",
       "      <th>2022-08-18 00:00:00+09:00</th>\n",
       "      <td>0.733822</td>\n",
       "    </tr>\n",
       "    <tr>\n",
       "      <th>2022-10-04 00:00:00+09:00</th>\n",
       "      <td>0.626161</td>\n",
       "    </tr>\n",
       "    <tr>\n",
       "      <th>2022-11-16 00:00:00+09:00</th>\n",
       "      <td>0.722792</td>\n",
       "    </tr>\n",
       "    <tr>\n",
       "      <th>2022-12-28 00:00:00+09:00</th>\n",
       "      <td>0.651779</td>\n",
       "    </tr>\n",
       "  </tbody>\n",
       "</table>\n",
       "<p>190 rows × 1 columns</p>\n",
       "</div>"
      ],
      "text/plain": [
       "                              Close\n",
       "Date                               \n",
       "2000-01-04 00:00:00+09:00  0.211498\n",
       "2000-02-16 00:00:00+09:00  0.146780\n",
       "2000-03-30 00:00:00+09:00  0.150546\n",
       "2000-05-18 00:00:00+09:00  0.086743\n",
       "2000-06-30 00:00:00+09:00  0.125771\n",
       "...                             ...\n",
       "2022-07-06 00:00:00+09:00  0.655946\n",
       "2022-08-18 00:00:00+09:00  0.733822\n",
       "2022-10-04 00:00:00+09:00  0.626161\n",
       "2022-11-16 00:00:00+09:00  0.722792\n",
       "2022-12-28 00:00:00+09:00  0.651779\n",
       "\n",
       "[190 rows x 1 columns]"
      ]
     },
     "execution_count": 16,
     "metadata": {},
     "output_type": "execute_result"
    }
   ],
   "source": [
    "index_df    = get_world_index('^KS11')[['Close']][::30]\n",
    "index_df[:]    = get_normalization(index_df)\n",
    "index_df"
   ]
  },
  {
   "cell_type": "code",
   "execution_count": 58,
   "id": "07468255",
   "metadata": {},
   "outputs": [
    {
     "name": "stdout",
     "output_type": "stream",
     "text": [
      "2469.73\n",
      "2481.52\n",
      "-0.48%\n"
     ]
    }
   ],
   "source": [
    "now = datetime.today()\n",
    "end_day = datetime(now.year, now.month, now.day)\n",
    "start_day = end_day - timedelta(days = 365)\n",
    "kospi_df = stock.get_index_fundamental(start_day.strftime('%Y%m%d'), end_day.strftime('%Y%m%d'), \"1001\")\n",
    "a = kospi_df.iloc[-1, 0]\n",
    "b = kospi_df.iloc[-2, 0]\n",
    "print(a)\n",
    "print(b)\n",
    "delta = str(round((a-b) /a * 100,2)) + '%'\n",
    "print(delta)"
   ]
  },
  {
   "cell_type": "code",
   "execution_count": 54,
   "id": "c306b903",
   "metadata": {},
   "outputs": [
    {
     "data": {
      "text/plain": [
       "-0.48"
      ]
     },
     "execution_count": 54,
     "metadata": {},
     "output_type": "execute_result"
    }
   ],
   "source": [
    "kospi_df.iloc[-1, 1]"
   ]
  },
  {
   "cell_type": "code",
   "execution_count": 47,
   "id": "4bc28381",
   "metadata": {},
   "outputs": [
    {
     "name": "stdout",
     "output_type": "stream",
     "text": [
      "[*********************100%***********************]  1 of 1 completed\n"
     ]
    },
    {
     "data": {
      "text/html": [
       "<div>\n",
       "<style scoped>\n",
       "    .dataframe tbody tr th:only-of-type {\n",
       "        vertical-align: middle;\n",
       "    }\n",
       "\n",
       "    .dataframe tbody tr th {\n",
       "        vertical-align: top;\n",
       "    }\n",
       "\n",
       "    .dataframe thead th {\n",
       "        text-align: right;\n",
       "    }\n",
       "</style>\n",
       "<table border=\"1\" class=\"dataframe\">\n",
       "  <thead>\n",
       "    <tr style=\"text-align: right;\">\n",
       "      <th></th>\n",
       "      <th>Close</th>\n",
       "    </tr>\n",
       "    <tr>\n",
       "      <th>Date</th>\n",
       "      <th></th>\n",
       "    </tr>\n",
       "  </thead>\n",
       "  <tbody>\n",
       "    <tr>\n",
       "      <th>2000-01-03 00:00:00-05:00</th>\n",
       "      <td>1455.219971</td>\n",
       "    </tr>\n",
       "    <tr>\n",
       "      <th>2000-01-04 00:00:00-05:00</th>\n",
       "      <td>1399.420044</td>\n",
       "    </tr>\n",
       "    <tr>\n",
       "      <th>2000-01-05 00:00:00-05:00</th>\n",
       "      <td>1402.109985</td>\n",
       "    </tr>\n",
       "    <tr>\n",
       "      <th>2000-01-06 00:00:00-05:00</th>\n",
       "      <td>1403.449951</td>\n",
       "    </tr>\n",
       "    <tr>\n",
       "      <th>2000-01-07 00:00:00-05:00</th>\n",
       "      <td>1441.469971</td>\n",
       "    </tr>\n",
       "    <tr>\n",
       "      <th>...</th>\n",
       "      <td>...</td>\n",
       "    </tr>\n",
       "    <tr>\n",
       "      <th>2023-02-02 00:00:00-05:00</th>\n",
       "      <td>4179.759766</td>\n",
       "    </tr>\n",
       "    <tr>\n",
       "      <th>2023-02-03 00:00:00-05:00</th>\n",
       "      <td>4136.479980</td>\n",
       "    </tr>\n",
       "    <tr>\n",
       "      <th>2023-02-06 00:00:00-05:00</th>\n",
       "      <td>4111.080078</td>\n",
       "    </tr>\n",
       "    <tr>\n",
       "      <th>2023-02-07 00:00:00-05:00</th>\n",
       "      <td>4164.000000</td>\n",
       "    </tr>\n",
       "    <tr>\n",
       "      <th>2023-02-08 00:00:00-05:00</th>\n",
       "      <td>4117.859863</td>\n",
       "    </tr>\n",
       "  </tbody>\n",
       "</table>\n",
       "<p>5813 rows × 1 columns</p>\n",
       "</div>"
      ],
      "text/plain": [
       "                                 Close\n",
       "Date                                  \n",
       "2000-01-03 00:00:00-05:00  1455.219971\n",
       "2000-01-04 00:00:00-05:00  1399.420044\n",
       "2000-01-05 00:00:00-05:00  1402.109985\n",
       "2000-01-06 00:00:00-05:00  1403.449951\n",
       "2000-01-07 00:00:00-05:00  1441.469971\n",
       "...                                ...\n",
       "2023-02-02 00:00:00-05:00  4179.759766\n",
       "2023-02-03 00:00:00-05:00  4136.479980\n",
       "2023-02-06 00:00:00-05:00  4111.080078\n",
       "2023-02-07 00:00:00-05:00  4164.000000\n",
       "2023-02-08 00:00:00-05:00  4117.859863\n",
       "\n",
       "[5813 rows x 1 columns]"
      ]
     },
     "execution_count": 47,
     "metadata": {},
     "output_type": "execute_result"
    }
   ],
   "source": [
    "index_df    = get_world_index('^GSPC')[['Close']]\n",
    "index_df\n"
   ]
  },
  {
   "cell_type": "code",
   "execution_count": 60,
   "id": "142dfd86",
   "metadata": {},
   "outputs": [
    {
     "name": "stdout",
     "output_type": "stream",
     "text": [
      "4117.85986328125\n",
      "4164.0\n",
      "1.12%\n"
     ]
    }
   ],
   "source": [
    "a = index_df.iloc[-1, 0]\n",
    "b = index_df.iloc[-2, 0]\n",
    "print(a)\n",
    "print(b)\n",
    "delta = str(round((b-a) /a * 100,2)) + '%'\n",
    "print(delta)"
   ]
  },
  {
   "cell_type": "code",
   "execution_count": 61,
   "id": "f47aebd8",
   "metadata": {},
   "outputs": [
    {
     "data": {
      "text/plain": [
       "-1.12"
      ]
     },
     "execution_count": 61,
     "metadata": {},
     "output_type": "execute_result"
    }
   ],
   "source": [
    "round((a-b) /a * 100,2)"
   ]
  },
  {
   "cell_type": "code",
   "execution_count": null,
   "id": "ca338406",
   "metadata": {},
   "outputs": [],
   "source": [
    "4081.5 4117.85986328125 \n",
    "0.89"
   ]
  }
 ],
 "metadata": {
  "kernelspec": {
   "display_name": "Python 3 (ipykernel)",
   "language": "python",
   "name": "python3"
  },
  "language_info": {
   "codemirror_mode": {
    "name": "ipython",
    "version": 3
   },
   "file_extension": ".py",
   "mimetype": "text/x-python",
   "name": "python",
   "nbconvert_exporter": "python",
   "pygments_lexer": "ipython3",
   "version": "3.10.4"
  },
  "vscode": {
   "interpreter": {
    "hash": "2701035f62c8526adc246c1ce198c646a908962c9f03e53671c46035159238ce"
   }
  }
 },
 "nbformat": 4,
 "nbformat_minor": 5
}
